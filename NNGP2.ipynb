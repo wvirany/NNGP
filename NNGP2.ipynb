{
  "cells": [
    {
      "cell_type": "markdown",
      "metadata": {
        "id": "view-in-github",
        "colab_type": "text"
      },
      "source": [
        "<a href=\"https://colab.research.google.com/github/wvirany/NNGP/blob/main/NNGP2.ipynb\" target=\"_parent\"><img src=\"https://colab.research.google.com/assets/colab-badge.svg\" alt=\"Open In Colab\"/></a>"
      ]
    },
    {
      "cell_type": "code",
      "execution_count": 1,
      "metadata": {
        "id": "3hg261A01Bcy"
      },
      "outputs": [],
      "source": [
        "import numpy as np\n",
        "import matplotlib.pyplot as plt\n",
        "from matplotlib.lines import Line2D\n",
        "import seaborn as sns\n",
        "\n",
        "import tensorflow as tf\n",
        "from tensorflow import keras\n",
        "from keras import layers\n",
        "from keras.models import Sequential\n",
        "from keras.layers import Dense, Activation\n",
        "from keras.initializers import RandomNormal\n",
        "from keras.optimizers import Adam\n",
        "from keras.losses import MeanSquaredError\n",
        "\n",
        "import warnings\n",
        "warnings.filterwarnings('ignore')\n",
        "\n",
        "\n",
        "rc = {\n",
        "    \"axes.facecolor\": \".95\",\n",
        "    \"figure.facecolor\": \"#f7f9fc\",\n",
        "    \"axes.edgecolor\": \"#000000\",\n",
        "    \"grid.color\": \"#EBEBE7\",\n",
        "    \"font.family\": \"serif\",\n",
        "    \"axes.labelcolor\": \"#000000\",\n",
        "    \"xtick.color\": \"#000000\",\n",
        "    \"ytick.color\": \"#000000\",\n",
        "    \"grid.alpha\": 0.4\n",
        "}\n",
        "\n",
        "default_palette = 'tab10'\n",
        "\n",
        "sns.set(rc=rc)\n",
        "\n",
        "np.random.seed(42)"
      ]
    },
    {
      "cell_type": "code",
      "source": [
        "def gaussian_activation(x, mean=0.0, sigma=1.0):\n",
        "    return tf.exp(-tf.square(x - mean) / (2 * tf.square(sigma)))"
      ],
      "metadata": {
        "id": "y7-rzI3O19V6"
      },
      "execution_count": 2,
      "outputs": []
    },
    {
      "cell_type": "code",
      "execution_count": 13,
      "metadata": {
        "id": "5osfqMac1EZT"
      },
      "outputs": [],
      "source": [
        "class SingleLayerNetwork(keras.Model):\n",
        "\n",
        "  def __init__(self, num_units, activation=tf.math.sin):\n",
        "\n",
        "    super().__init__()\n",
        "\n",
        "    self.net = Sequential([\n",
        "        Dense(num_units, input_shape=(1,), activation=activation,\n",
        "              kernel_initializer=RandomNormal(mean=0.0, stddev=1.0),\n",
        "              bias_initializer=RandomNormal(mean=0.0, stddev=1.0)),\n",
        "        Dense(1, activation='linear',\n",
        "              kernel_initializer=RandomNormal(mean=0.0, stddev=1/np.sqrt(num_units)),\n",
        "              bias_initializer=RandomNormal(mean=0.0, stddev=.1))\n",
        "    ])\n",
        "\n",
        "\n",
        "  def call(self, X):\n",
        "    return self.net(X)\n",
        "\n",
        "\n",
        "  def train_step(self, x_train, y_train, optimizer, loss_fn):\n",
        "    \"\"\"\n",
        "    Performs one step of gradient descent\n",
        "\n",
        "    Args:\n",
        "        - x_train: Input data for training (features).\n",
        "        - y_train: Ground truth values (targets)\n",
        "    \"\"\"\n",
        "\n",
        "    with tf.GradientTape() as tape:\n",
        "\n",
        "      output = self(x_train)\n",
        "\n",
        "      loss = loss_fn(y_train, output)\n",
        "\n",
        "    gradients = tape.gradient(loss, self.trainable_variables)\n",
        "\n",
        "    optimizer.apply_gradients(zip(gradients, self.trainable_variables))\n",
        "\n",
        "    return loss"
      ]
    },
    {
      "cell_type": "code",
      "execution_count": 4,
      "metadata": {
        "id": "vNyDfsXY1IAC"
      },
      "outputs": [],
      "source": [
        "noise_scale = 0\n",
        "\n",
        "f = lambda x: 5 * np.sin(x)\n",
        "\n",
        "train_points = 5\n",
        "noise_scale = 1e-1"
      ]
    },
    {
      "cell_type": "code",
      "source": [
        "x_train = np.random.uniform(-np.pi, np.pi, 5)\n",
        "y_train = f(x_train)\n",
        "y_train += noise_scale * np.random.normal(0, 1, 5)\n",
        "train = (x_train, y_train)\n",
        "\n",
        "x_test = np.linspace(-np.pi, np.pi, 50)"
      ],
      "metadata": {
        "id": "G6wmbjVAHCo_"
      },
      "execution_count": 5,
      "outputs": []
    },
    {
      "cell_type": "code",
      "source": [
        "nn_ensemble = []\n",
        "\n",
        "for i in range(50):\n",
        "\n",
        "  model = SingleLayerNetwork(num_units=256)\n",
        "  nn_ensemble.append(model)"
      ],
      "metadata": {
        "id": "JBYtfLWKR90N"
      },
      "execution_count": 20,
      "outputs": []
    },
    {
      "cell_type": "code",
      "source": [
        "nn_ensemble[0].summary()"
      ],
      "metadata": {
        "colab": {
          "base_uri": "https://localhost:8080/",
          "height": 167
        },
        "id": "kI7jVVTWSMSf",
        "outputId": "85a75dd4-bc85-4167-ea77-caceac6417d7"
      },
      "execution_count": 21,
      "outputs": [
        {
          "output_type": "display_data",
          "data": {
            "text/plain": [
              "\u001b[1mModel: \"single_layer_network_200\"\u001b[0m\n"
            ],
            "text/html": [
              "<pre style=\"white-space:pre;overflow-x:auto;line-height:normal;font-family:Menlo,'DejaVu Sans Mono',consolas,'Courier New',monospace\"><span style=\"font-weight: bold\">Model: \"single_layer_network_200\"</span>\n",
              "</pre>\n"
            ]
          },
          "metadata": {}
        },
        {
          "output_type": "display_data",
          "data": {
            "text/plain": [
              "┏━━━━━━━━━━━━━━━━━━━━━━━━━━━━━━━━━━━━━━┳━━━━━━━━━━━━━━━━━━━━━━━━━━━━━┳━━━━━━━━━━━━━━━━━┓\n",
              "┃\u001b[1m \u001b[0m\u001b[1mLayer (type)                        \u001b[0m\u001b[1m \u001b[0m┃\u001b[1m \u001b[0m\u001b[1mOutput Shape               \u001b[0m\u001b[1m \u001b[0m┃\u001b[1m \u001b[0m\u001b[1m        Param #\u001b[0m\u001b[1m \u001b[0m┃\n",
              "┡━━━━━━━━━━━━━━━━━━━━━━━━━━━━━━━━━━━━━━╇━━━━━━━━━━━━━━━━━━━━━━━━━━━━━╇━━━━━━━━━━━━━━━━━┩\n",
              "│ sequential_200 (\u001b[38;5;33mSequential\u001b[0m)          │ (\u001b[38;5;45mNone\u001b[0m, \u001b[38;5;34m1\u001b[0m)                   │             \u001b[38;5;34m769\u001b[0m │\n",
              "└──────────────────────────────────────┴─────────────────────────────┴─────────────────┘\n"
            ],
            "text/html": [
              "<pre style=\"white-space:pre;overflow-x:auto;line-height:normal;font-family:Menlo,'DejaVu Sans Mono',consolas,'Courier New',monospace\">┏━━━━━━━━━━━━━━━━━━━━━━━━━━━━━━━━━━━━━━┳━━━━━━━━━━━━━━━━━━━━━━━━━━━━━┳━━━━━━━━━━━━━━━━━┓\n",
              "┃<span style=\"font-weight: bold\"> Layer (type)                         </span>┃<span style=\"font-weight: bold\"> Output Shape                </span>┃<span style=\"font-weight: bold\">         Param # </span>┃\n",
              "┡━━━━━━━━━━━━━━━━━━━━━━━━━━━━━━━━━━━━━━╇━━━━━━━━━━━━━━━━━━━━━━━━━━━━━╇━━━━━━━━━━━━━━━━━┩\n",
              "│ sequential_200 (<span style=\"color: #0087ff; text-decoration-color: #0087ff\">Sequential</span>)          │ (<span style=\"color: #00d7ff; text-decoration-color: #00d7ff\">None</span>, <span style=\"color: #00af00; text-decoration-color: #00af00\">1</span>)                   │             <span style=\"color: #00af00; text-decoration-color: #00af00\">769</span> │\n",
              "└──────────────────────────────────────┴─────────────────────────────┴─────────────────┘\n",
              "</pre>\n"
            ]
          },
          "metadata": {}
        },
        {
          "output_type": "display_data",
          "data": {
            "text/plain": [
              "\u001b[1m Total params: \u001b[0m\u001b[38;5;34m769\u001b[0m (3.00 KB)\n"
            ],
            "text/html": [
              "<pre style=\"white-space:pre;overflow-x:auto;line-height:normal;font-family:Menlo,'DejaVu Sans Mono',consolas,'Courier New',monospace\"><span style=\"font-weight: bold\"> Total params: </span><span style=\"color: #00af00; text-decoration-color: #00af00\">769</span> (3.00 KB)\n",
              "</pre>\n"
            ]
          },
          "metadata": {}
        },
        {
          "output_type": "display_data",
          "data": {
            "text/plain": [
              "\u001b[1m Trainable params: \u001b[0m\u001b[38;5;34m769\u001b[0m (3.00 KB)\n"
            ],
            "text/html": [
              "<pre style=\"white-space:pre;overflow-x:auto;line-height:normal;font-family:Menlo,'DejaVu Sans Mono',consolas,'Courier New',monospace\"><span style=\"font-weight: bold\"> Trainable params: </span><span style=\"color: #00af00; text-decoration-color: #00af00\">769</span> (3.00 KB)\n",
              "</pre>\n"
            ]
          },
          "metadata": {}
        },
        {
          "output_type": "display_data",
          "data": {
            "text/plain": [
              "\u001b[1m Non-trainable params: \u001b[0m\u001b[38;5;34m0\u001b[0m (0.00 B)\n"
            ],
            "text/html": [
              "<pre style=\"white-space:pre;overflow-x:auto;line-height:normal;font-family:Menlo,'DejaVu Sans Mono',consolas,'Courier New',monospace\"><span style=\"font-weight: bold\"> Non-trainable params: </span><span style=\"color: #00af00; text-decoration-color: #00af00\">0</span> (0.00 B)\n",
              "</pre>\n"
            ]
          },
          "metadata": {}
        }
      ]
    },
    {
      "cell_type": "code",
      "source": [
        "for epoch in range(50):\n",
        "\n",
        "  fig = plt.figure()\n",
        "\n",
        "  plt.rcParams.update({\n",
        "    \"mathtext.fontset\": \"cm\",\n",
        "    \"font.family\": \"sans-serif\",\n",
        "    \"text.usetex\": False,\n",
        "  })\n",
        "\n",
        "  preds = []\n",
        "\n",
        "  for nn in nn_ensemble[0:]:\n",
        "\n",
        "    pred = nn(x_test)\n",
        "\n",
        "    preds.append(pred)\n",
        "\n",
        "    plt.plot(x_test, pred, c='pink', lw=.7, alpha=.5, label='NN Ensemble', zorder=1)\n",
        "\n",
        "    nn.train_step(x_train, y_train, optimizer=Adam(learning_rate=.001), loss_fn=MeanSquaredError())\n",
        "\n",
        "  mean = np.mean(preds, axis=0).reshape(50)\n",
        "  std = np.std(preds, axis=0).reshape(50)\n",
        "\n",
        "  plt.plot(x_test, mean, c='firebrick', lw=1, label='NN Ensemble Mean', zorder=1)\n",
        "  plt.scatter(x_train, y_train, c='k', s=25, zorder=2)\n",
        "\n",
        "  plt.fill_between(x_test,\n",
        "                 mean - 2 * std,\n",
        "                 mean +  2 * std,\n",
        "                 color='lightblue', alpha=0.2, zorder=1);\n",
        "\n",
        "  plt.xticks([-np.pi, -np.pi/2, 0, np.pi/2, np.pi],\n",
        "             ['$\\pi$', '$\\pi/2$', r'$0$', r'$\\pi/2$', r'$\\pi$'])\n",
        "  plt.yticks([-5, 0, 5], ['$-5$', '$0$', '$5$'])\n",
        "\n",
        "  plt.xlabel(\"$x$\")\n",
        "  plt.ylabel(\"$y$\")\n",
        "\n",
        "  plt.xlim(-np.pi, np.pi)\n",
        "  plt.ylim(-7, 7)\n",
        "\n",
        "  plt.text(2.15, -6.25, f'$t = {epoch}$', {\"fontsize\":18})"
      ],
      "metadata": {
        "id": "DVPBCBt3OtRI"
      },
      "execution_count": null,
      "outputs": []
    }
  ],
  "metadata": {
    "colab": {
      "provenance": [],
      "gpuType": "T4",
      "include_colab_link": true
    },
    "kernelspec": {
      "display_name": "Python 3",
      "name": "python3"
    },
    "language_info": {
      "name": "python"
    },
    "accelerator": "GPU"
  },
  "nbformat": 4,
  "nbformat_minor": 0
}