{
  "cells": [
    {
      "cell_type": "markdown",
      "metadata": {
        "id": "view-in-github",
        "colab_type": "text"
      },
      "source": [
        "<a href=\"https://colab.research.google.com/github/wvirany/NNGP/blob/main/NNGP2.ipynb\" target=\"_parent\"><img src=\"https://colab.research.google.com/assets/colab-badge.svg\" alt=\"Open In Colab\"/></a>"
      ]
    },
    {
      "cell_type": "code",
      "execution_count": null,
      "metadata": {
        "colab": {
          "base_uri": "https://localhost:8080/"
        },
        "id": "eZet57my03dw",
        "outputId": "4d0107d5-ed30-45e3-dec8-55bdbedad32b"
      },
      "outputs": [
        {
          "output_type": "stream",
          "name": "stdout",
          "text": [
            "\u001b[33mWARNING: jax 0.4.31 does not provide the extra 'cuda11-cudnn82'\u001b[0m\u001b[33m\n",
            "\u001b[0m"
          ]
        }
      ],
      "source": [
        "!pip install -q --upgrade pip\n",
        "!pip install -q --upgrade jax[cuda11_cudnn82] -f https://storage.googleapis.com/jax-releases/jax_cuda_releases.html\n",
        "!pip install -q git+https://www.github.com/google/neural-tangents"
      ]
    },
    {
      "cell_type": "code",
      "execution_count": null,
      "metadata": {
        "id": "3hg261A01Bcy"
      },
      "outputs": [],
      "source": [
        "import numpy as np\n",
        "import matplotlib.pyplot as plt\n",
        "import seaborn as sns\n",
        "\n",
        "import tensorflow as tf\n",
        "from tensorflow import keras\n",
        "from keras import layers\n",
        "from keras.models import Sequential\n",
        "from keras.layers import Dense, Activation\n",
        "from keras.initializers import RandomNormal\n",
        "from keras.optimizers import Adam\n",
        "from keras.losses import MeanSquaredError\n",
        "\n",
        "import warnings\n",
        "warnings.filterwarnings('ignore')\n",
        "\n",
        "sns.set_style(\"darkgrid\",\n",
        "              {\"axes.facecolor\": \".95\"})\n",
        "\n",
        "rc = {\n",
        "    \"axes.facecolor\": \".95\",\n",
        "    \"figure.facecolor\": \"#f7f9fc\",\n",
        "    \"axes.edgecolor\": \"#000000\",\n",
        "    \"grid.color\": \"#EBEBE7\",\n",
        "    \"font.family\": \"serif\",\n",
        "    \"axes.labelcolor\": \"#000000\",\n",
        "    \"xtick.color\": \"#000000\",\n",
        "    \"ytick.color\": \"#000000\",\n",
        "    \"grid.alpha\": 0.4\n",
        "}\n",
        "\n",
        "default_palette = 'tab10'\n",
        "\n",
        "sns.set(rc=rc)\n",
        "\n",
        "np.random.seed(42)"
      ]
    },
    {
      "cell_type": "code",
      "execution_count": null,
      "metadata": {
        "id": "5osfqMac1EZT"
      },
      "outputs": [],
      "source": [
        "class SingleLayerNetwork(keras.Model):\n",
        "\n",
        "  def __init__(self, num_units, activation='tanh'):\n",
        "\n",
        "    super().__init__()\n",
        "\n",
        "    self.net = Sequential([\n",
        "        Dense(num_units, input_shape=(1,), activation=activation,\n",
        "              kernel_initializer=RandomNormal(mean=0.0, stddev=1.0),\n",
        "              bias_initializer=RandomNormal(mean=0.0, stddev=1.0)),\n",
        "        Dense(1, activation='linear',\n",
        "              kernel_initializer=RandomNormal(mean=0.0, stddev=1/np.sqrt(num_units)),\n",
        "              bias_initializer=RandomNormal(mean=0.0, stddev=.1))\n",
        "    ])\n",
        "\n",
        "\n",
        "  def call(self, X):\n",
        "    return self.net(X)\n",
        "\n",
        "\n",
        "  def train_step(self, x_train, y_train, optimizer, loss_fn):\n",
        "    \"\"\"\n",
        "    Performs one step of gradient descent\n",
        "\n",
        "    Args:\n",
        "        - x_train: Input data for training (features).\n",
        "        - y_train: Ground truth values (targets)\n",
        "    \"\"\"\n",
        "\n",
        "    with tf.GradientTape() as tape:\n",
        "\n",
        "      output = self(x_train)\n",
        "\n",
        "      loss = loss_fn(y_train, output)\n",
        "\n",
        "    # Compute the gradient\n",
        "    gradients = tape.gradient(loss, self.trainable_variables)\n",
        "\n",
        "    optimizer.apply_gradients(zip(gradients, self.trainable_variables))\n",
        "\n",
        "    return loss"
      ]
    },
    {
      "cell_type": "code",
      "execution_count": null,
      "metadata": {
        "id": "vNyDfsXY1IAC"
      },
      "outputs": [],
      "source": [
        "noise_scale = 0\n",
        "\n",
        "f = lambda x: 5 * np.sin(x)\n",
        "\n",
        "train_points = 5\n",
        "noise_scale = 1e-1"
      ]
    },
    {
      "cell_type": "code",
      "source": [
        "x_train = np.random.uniform(-np.pi, np.pi, 5)\n",
        "y_train = f(x_train)\n",
        "y_train += noise_scale * np.random.normal(0, 1, 5)\n",
        "train = (x_train, y_train)\n",
        "\n",
        "x_test = np.linspace(-np.pi, np.pi, 50)"
      ],
      "metadata": {
        "id": "G6wmbjVAHCo_"
      },
      "execution_count": null,
      "outputs": []
    },
    {
      "cell_type": "code",
      "source": [
        "nn_ensemble = []\n",
        "\n",
        "for i in range(50):\n",
        "\n",
        "  model = SingleLayerNetwork(num_units=512)\n",
        "  nn_ensemble.append(model)"
      ],
      "metadata": {
        "id": "JBYtfLWKR90N"
      },
      "execution_count": null,
      "outputs": []
    },
    {
      "cell_type": "code",
      "source": [
        "nn_ensemble[0].summary()"
      ],
      "metadata": {
        "id": "kI7jVVTWSMSf"
      },
      "execution_count": null,
      "outputs": []
    },
    {
      "cell_type": "code",
      "source": [
        "for epoch in range(1):\n",
        "\n",
        "  fig = plt.figure()\n",
        "\n",
        "  plt.rcParams.update({\n",
        "    \"mathtext.fontset\": \"cm\",  # Set DejaVu Serif as the font for math text\n",
        "    \"font.family\": \"serif\",             # Use serif fonts by default\n",
        "    \"text.usetex\": False,               # Use Matplotlib's mathtext instead of LaTeX\n",
        "  })\n",
        "\n",
        "  preds = []\n",
        "\n",
        "  for nn in nn_ensemble[0:]:\n",
        "\n",
        "    pred = nn(x_test)\n",
        "\n",
        "    preds.append(pred)\n",
        "\n",
        "    plt.plot(x_test, pred, c='pink', lw=.7, alpha=.5)\n",
        "\n",
        "    nn.train_step(x_train, y_train, optimizer=Adam(), loss_fn=MeanSquaredError())\n",
        "\n",
        "  mean = np.mean(preds, axis=0).reshape(50)\n",
        "  std = np.std(preds, axis=0).reshape(50)\n",
        "\n",
        "  plt.plot(x_test, mean, c='firebrick', lw=1)\n",
        "  plt.scatter(x_train, y_train, c='k', s=25)\n",
        "\n",
        "  plt.fill_between(x_test,\n",
        "                 mean - 2 * std,\n",
        "                 mean +  2 * std,\n",
        "                 color='lightblue', alpha=0.2);\n",
        "\n",
        "  plt.xticks([-np.pi, -np.pi/2, 0, np.pi/2, np.pi],\n",
        "             ['$\\pi$', '$-\\frac{-\\pi}{2}$', r'$0$', r'$\\pi/2$', r'$\\pi$'])\n",
        "  plt.yticks([-5, 0, 5])\n",
        "\n",
        "  # plt.xlabel(\"$x$\")\n",
        "  # plt.ylabel(\"$y$\")\n",
        "\n",
        "  plt.xlim(-np.pi, np.pi)\n",
        "  plt.ylim(-7, 7)"
      ],
      "metadata": {
        "id": "DVPBCBt3OtRI"
      },
      "execution_count": null,
      "outputs": []
    },
    {
      "cell_type": "code",
      "source": [],
      "metadata": {
        "id": "BCnuNlx_d_NE"
      },
      "execution_count": null,
      "outputs": []
    }
  ],
  "metadata": {
    "colab": {
      "provenance": [],
      "gpuType": "T4",
      "include_colab_link": true
    },
    "kernelspec": {
      "display_name": "Python 3",
      "name": "python3"
    },
    "language_info": {
      "name": "python"
    },
    "accelerator": "GPU"
  },
  "nbformat": 4,
  "nbformat_minor": 0
}